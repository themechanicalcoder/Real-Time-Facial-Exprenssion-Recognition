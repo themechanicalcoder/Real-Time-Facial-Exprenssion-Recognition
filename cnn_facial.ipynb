{
 "cells": [
  {
   "cell_type": "code",
   "execution_count": 1,
   "metadata": {},
   "outputs": [
    {
     "name": "stderr",
     "output_type": "stream",
     "text": [
      "Using TensorFlow backend.\n"
     ]
    }
   ],
   "source": [
    "import keras\n",
    "import tarfile\n",
    "import pandas as pd\n",
    "import numpy as np\n",
    "import matplotlib.pyplot as plt\n",
    "import keras\n",
    "from keras.models import Sequential, Model, model_from_json\n",
    "from keras.layers import Dense, Conv2D, Activation, MaxPooling2D, Flatten, Dropout, BatchNormalization\n",
    "from keras.utils import np_utils\n",
    "from keras import optimizers\n",
    "from keras.callbacks import ModelCheckpoint\n",
    "from keras.preprocessing.image import ImageDataGenerator ,img_to_array,load_img\n",
    "from sklearn.preprocessing import LabelBinarizer\n",
    "from sklearn.metrics import classification_report\n",
    "from sklearn.model_selection import train_test_split\n",
    "import matplotlib"
   ]
  },
  {
   "cell_type": "code",
   "execution_count": 2,
   "metadata": {},
   "outputs": [
    {
     "name": "stdout",
     "output_type": "stream",
     "text": [
      "number of instances:  35918\n"
     ]
    }
   ],
   "source": [
    "with open(\"fer2013\") as f:\n",
    "    content = f.readlines()\n",
    "    lines = np.array(content)\n",
    "num_of_instances = lines.size\n",
    "print(\"number of instances: \",num_of_instances)"
   ]
  },
  {
   "cell_type": "code",
   "execution_count": 3,
   "metadata": {},
   "outputs": [],
   "source": [
    "\n",
    "num_classes=7\n",
    "x_train, y_train, x_test, y_test,x,y = [], [], [], [],[],[]\n",
    " \n",
    "for i in range(1,num_of_instances):\n",
    " try:\n",
    "  emotion, img, usage = lines[i].split(\",\")\n",
    " \n",
    "  val = img.split(\" \")\n",
    "  pixels = np.array(val, 'float32')\n",
    "  x.append(pixels)\n",
    "  y.append(emotion)\n",
    " except:\n",
    "  print(\"\", end=\"\")"
   ]
  },
  {
   "cell_type": "code",
   "execution_count": 4,
   "metadata": {},
   "outputs": [
    {
     "name": "stdout",
     "output_type": "stream",
     "text": [
      "(28709, 48, 48, 1)\n",
      "(28709, 7)\n",
      "(7178, 48, 48, 1)\n",
      "(7178, 7)\n"
     ]
    }
   ],
   "source": [
    "x=np.array(x).reshape(-1,48,48,1)\n",
    "x=x/255.0\n",
    "y=np.array(y)\n",
    "lb = LabelBinarizer()\n",
    "y = lb.fit_transform(y)\n",
    "x_train,x_test,y_train,y_test=train_test_split(x,y,test_size=0.2)\n",
    "print(x_train.shape)\n",
    "print(y_train.shape)\n",
    "print(x_test.shape)\n",
    "print(y_test.shape)"
   ]
  },
  {
   "cell_type": "code",
   "execution_count": 5,
   "metadata": {},
   "outputs": [],
   "source": [
    "def build(width,height,depth,classes):\n",
    "\n",
    "    model=Sequential()\n",
    "    inputShape=(height,width,depth)\n",
    "\n",
    "    #first layer\n",
    "    model.add(Conv2D(32,(3,3),input_shape=inputShape,padding='same'))\n",
    "    model.add(Activation(\"relu\"))\n",
    "    model.add(BatchNormalization(axis=-1))\n",
    "    model.add(MaxPooling2D(pool_size=(3,3)))\n",
    "    model.add(Dropout(0.25))\n",
    "\n",
    "\n",
    "    #second layer\n",
    "    model.add(Conv2D(64, (3, 3),padding='same'))\n",
    "    model.add(Activation(\"relu\"))\n",
    "    model.add(BatchNormalization(axis=-1))\n",
    "    model.add(Conv2D(64, (3, 3),padding='same'))\n",
    "    model.add(Activation(\"relu\"))\n",
    "    model.add(BatchNormalization(axis=-1))\n",
    "    model.add(MaxPooling2D(pool_size=(2,2)))\n",
    "    model.add(Dropout(0.30))\n",
    "\n",
    "    #third layer\n",
    "    model.add(Conv2D(128, (3, 3),padding='same'))\n",
    "    model.add(Activation(\"relu\"))\n",
    "    model.add(BatchNormalization(axis=-1))\n",
    "    model.add(Conv2D(128, (3, 3),padding='same'))\n",
    "    model.add(Activation(\"relu\"))\n",
    "    model.add(BatchNormalization(axis=-1))\n",
    "    model.add(MaxPooling2D(pool_size=(2, 2)))\n",
    "    model.add(Dropout(0.40))\n",
    "\n",
    "    model.add(Flatten())\n",
    "    model.add(Dense(1024))\n",
    "    model.add(Activation(\"relu\"))\n",
    "    model.add(BatchNormalization())\n",
    "    model.add(Dropout(0.5))\n",
    "\n",
    "    #output layer\n",
    "    model.add(Dense(classes))\n",
    "    model.add(Activation(\"softmax\"))\n",
    "\n",
    "    return model\n",
    "\n"
   ]
  },
  {
   "cell_type": "code",
   "execution_count": 6,
   "metadata": {},
   "outputs": [
    {
     "name": "stdout",
     "output_type": "stream",
     "text": [
      "[INFO] compiling model...\n",
      "[INFO] training network...\n",
      "Epoch 1/50\n",
      "140/140 [==============================] - 39s 278ms/step - loss: 2.4162 - acc: 0.2026\n",
      "Epoch 2/50\n",
      "140/140 [==============================] - 32s 229ms/step - loss: 1.9669 - acc: 0.2356\n",
      "Epoch 3/50\n",
      "140/140 [==============================] - 32s 227ms/step - loss: 1.8640 - acc: 0.2617\n",
      "Epoch 4/50\n",
      "140/140 [==============================] - 32s 227ms/step - loss: 1.8486 - acc: 0.2715\n",
      "Epoch 5/50\n",
      "140/140 [==============================] - 32s 227ms/step - loss: 1.8068 - acc: 0.2853\n",
      "Epoch 6/50\n",
      "140/140 [==============================] - 32s 227ms/step - loss: 1.7628 - acc: 0.3122\n",
      "Epoch 7/50\n",
      "140/140 [==============================] - 32s 230ms/step - loss: 1.7190 - acc: 0.3366\n",
      "Epoch 8/50\n",
      "140/140 [==============================] - 32s 230ms/step - loss: 1.6635 - acc: 0.3636\n",
      "Epoch 9/50\n",
      "140/140 [==============================] - 32s 230ms/step - loss: 1.6622 - acc: 0.3660\n",
      "Epoch 10/50\n",
      "140/140 [==============================] - 32s 230ms/step - loss: 1.6084 - acc: 0.3883\n",
      "Epoch 11/50\n",
      "140/140 [==============================] - 32s 230ms/step - loss: 1.5842 - acc: 0.4031\n",
      "Epoch 12/50\n",
      "140/140 [==============================] - 32s 230ms/step - loss: 1.5547 - acc: 0.4124\n",
      "Epoch 13/50\n",
      "140/140 [==============================] - 32s 230ms/step - loss: 1.5275 - acc: 0.4251\n",
      "Epoch 14/50\n",
      "140/140 [==============================] - 32s 230ms/step - loss: 1.5019 - acc: 0.4363\n",
      "Epoch 15/50\n",
      "140/140 [==============================] - 32s 229ms/step - loss: 1.5002 - acc: 0.4342\n",
      "Epoch 16/50\n",
      "140/140 [==============================] - 32s 229ms/step - loss: 1.4578 - acc: 0.4469\n",
      "Epoch 17/50\n",
      "140/140 [==============================] - 32s 229ms/step - loss: 1.4400 - acc: 0.4589\n",
      "Epoch 18/50\n",
      "140/140 [==============================] - 32s 230ms/step - loss: 1.4329 - acc: 0.4609\n",
      "Epoch 19/50\n",
      "140/140 [==============================] - 32s 229ms/step - loss: 1.3829 - acc: 0.4708\n",
      "Epoch 20/50\n",
      "140/140 [==============================] - 32s 230ms/step - loss: 1.3641 - acc: 0.4780\n",
      "Epoch 21/50\n",
      "140/140 [==============================] - 32s 229ms/step - loss: 1.3503 - acc: 0.4856\n",
      "Epoch 22/50\n",
      "140/140 [==============================] - 32s 230ms/step - loss: 1.3404 - acc: 0.4873\n",
      "Epoch 23/50\n",
      "140/140 [==============================] - 32s 230ms/step - loss: 1.3274 - acc: 0.4952\n",
      "Epoch 24/50\n",
      "140/140 [==============================] - 32s 231ms/step - loss: 1.3113 - acc: 0.4975\n",
      "Epoch 25/50\n",
      "140/140 [==============================] - 32s 229ms/step - loss: 1.3056 - acc: 0.5027\n",
      "Epoch 26/50\n",
      "140/140 [==============================] - 32s 229ms/step - loss: 1.2932 - acc: 0.5089\n",
      "Epoch 27/50\n",
      "140/140 [==============================] - 32s 229ms/step - loss: 1.2912 - acc: 0.5057\n",
      "Epoch 28/50\n",
      "140/140 [==============================] - 32s 229ms/step - loss: 1.2837 - acc: 0.5113\n",
      "Epoch 29/50\n",
      "140/140 [==============================] - 32s 229ms/step - loss: 1.2664 - acc: 0.5176\n",
      "Epoch 30/50\n",
      "140/140 [==============================] - 32s 228ms/step - loss: 1.2668 - acc: 0.5188\n",
      "Epoch 31/50\n",
      "140/140 [==============================] - 32s 229ms/step - loss: 1.2550 - acc: 0.5220\n",
      "Epoch 32/50\n",
      "140/140 [==============================] - 33s 237ms/step - loss: 1.2566 - acc: 0.5233\n",
      "Epoch 33/50\n",
      "140/140 [==============================] - 32s 229ms/step - loss: 1.2469 - acc: 0.5279\n",
      "Epoch 34/50\n",
      "140/140 [==============================] - 32s 230ms/step - loss: 1.2416 - acc: 0.5274\n",
      "Epoch 35/50\n",
      "140/140 [==============================] - 32s 229ms/step - loss: 1.2302 - acc: 0.5321\n",
      "Epoch 36/50\n",
      "140/140 [==============================] - 32s 229ms/step - loss: 1.2319 - acc: 0.5349\n",
      "Epoch 37/50\n",
      "140/140 [==============================] - 32s 229ms/step - loss: 1.2277 - acc: 0.5348\n",
      "Epoch 38/50\n",
      "140/140 [==============================] - 32s 229ms/step - loss: 1.2145 - acc: 0.5383\n",
      "Epoch 39/50\n",
      "140/140 [==============================] - 32s 229ms/step - loss: 1.2200 - acc: 0.5385\n",
      "Epoch 40/50\n",
      "140/140 [==============================] - 32s 229ms/step - loss: 1.2117 - acc: 0.5432\n",
      "Epoch 41/50\n",
      "140/140 [==============================] - 32s 229ms/step - loss: 1.2054 - acc: 0.5456\n",
      "Epoch 42/50\n",
      "140/140 [==============================] - 32s 229ms/step - loss: 1.2046 - acc: 0.5453\n",
      "Epoch 43/50\n",
      "140/140 [==============================] - 32s 230ms/step - loss: 1.1996 - acc: 0.5439\n",
      "Epoch 44/50\n",
      "140/140 [==============================] - 32s 229ms/step - loss: 1.1921 - acc: 0.5495\n",
      "Epoch 45/50\n",
      "140/140 [==============================] - 106s 756ms/step - loss: 1.1875 - acc: 0.5485\n",
      "Epoch 46/50\n",
      "140/140 [==============================] - 12s 89ms/step - loss: 1.1877 - acc: 0.5492\n",
      "Epoch 47/50\n",
      "140/140 [==============================] - 11s 82ms/step - loss: 1.1837 - acc: 0.5515\n",
      "Epoch 48/50\n",
      "140/140 [==============================] - 12s 86ms/step - loss: 1.1684 - acc: 0.5566\n",
      "Epoch 49/50\n",
      "140/140 [==============================] - 14s 100ms/step - loss: 1.1769 - acc: 0.5547\n",
      "Epoch 50/50\n",
      "140/140 [==============================] - 12s 89ms/step - loss: 1.1739 - acc: 0.5560\n"
     ]
    }
   ],
   "source": [
    "aug = ImageDataGenerator(rotation_range=25, width_shift_range=0.2,height_shift_range=0.3, shear_range=0.2, zoom_range=0.2,horizontal_flip=True, fill_mode=\"nearest\")\n",
    "BS=256\n",
    "EPOCHS=50\n",
    "INIT_LR=.001\n",
    "print(\"[INFO] compiling model...\")\n",
    "model = build(width=48, height=48,depth=1, classes=len(lb.classes_))\n",
    "opt = optimizers.Adam(lr=INIT_LR, decay=INIT_LR / EPOCHS)\n",
    "model.compile(loss=\"categorical_crossentropy\", optimizer=opt,\n",
    "              metrics=[\"accuracy\"])\n",
    "\n",
    "filepath=\"trained.hdf5\"\n",
    "# train the network\n",
    "print(\"[INFO] training network...\")\n",
    "H = model.fit_generator(\n",
    "    aug.flow(x,y, batch_size=BS),\n",
    "    steps_per_epoch=len(x) // BS,\n",
    "    epochs=EPOCHS, verbose=1)\n",
    "model.save(filepath)"
   ]
  },
  {
   "cell_type": "code",
   "execution_count": null,
   "metadata": {},
   "outputs": [],
   "source": [
    "import cv2\n",
    "from keras.preprocessing.image import img_to_array\n",
    "emotions = ['angry', 'disgust', 'fear', 'happy', 'sad', 'surprise', 'neutral']\n",
    "image= cv2.imread('sad.jpg',cv2.IMREAD_GRAYSCALE)\n",
    "#output = image.copy()\n",
    "#cv2.imshow('image',image)\n",
    "# pre-process the image for classification\n",
    "image = cv2.resize(image, (48, 48))\n",
    "image = image.astype(\"float\") / 255.0\n",
    "image = img_to_array(image)\n",
    "image = np.expand_dims(image, axis=0)\n",
    "proba=model.predict(image)\n",
    "print(proba)\n",
    "idx = np.argmax(proba)\n",
    "\n",
    "print(emotions[idx])"
   ]
  },
  {
   "cell_type": "code",
   "execution_count": null,
   "metadata": {
    "scrolled": true
   },
   "outputs": [],
   "source": [
    "matplotlib.pyplot.style.use(\"ggplot\")\n",
    "matplotlib.pyplot.figure()\n",
    "N = EPOCHS\n",
    "plt.plot(np.arange(0, N), H.history[\"loss\"], label=\"train_loss\")\n",
    "plt.plot(np.arange(0, N), H.history[\"val_loss\"], label=\"val_loss\")\n",
    "plt.plot(np.arange(0, N), H.history[\"acc\"], label=\"train_acc\")\n",
    "plt.plot(np.arange(0, N), H.history[\"val_acc\"], label=\"val_acc\")\n",
    "plt.title(\"Training Loss and Accuracy\")\n",
    "plt.xlabel(\"Epoch #\")\n",
    "plt.ylabel(\"Loss/Accuracy\")\n",
    "plt.legend(loc=\"upper left\")\n",
    "plt.savefig(args[\"plot\"])"
   ]
  },
  {
   "cell_type": "raw",
   "metadata": {},
   "source": [
    "image=x_train[0]\n",
    "plt.imshow(image)\n",
    "plt.show()"
   ]
  },
  {
   "cell_type": "code",
   "execution_count": 54,
   "metadata": {},
   "outputs": [
    {
     "data": {
      "image/png": "[encoded data removed]",
      "text/plain": [
       "<Figure size 1008x216 with 2 Axes>"
      ]
     },
     "metadata": {
      "needs_background": "light"
     },
     "output_type": "display_data"
    }
   ],
   "source": [
    "plt.figure(figsize=(14,3))\n",
    "plt.subplot(1, 2, 1)\n",
    "plt.suptitle('Optimizer : Adam', fontsize=10)\n",
    "plt.ylabel('Loss', fontsize=16)\n",
    "plt.plot(hist.history['loss'], color='b', label='Training Loss')\n",
    "plt.plot(hist.history['val_loss'], color='r', label='Validation Loss')\n",
    "plt.legend(loc='upper right')\n",
    "\n",
    "plt.subplot(1, 2, 2)\n",
    "plt.ylabel('Accuracy', fontsize=16)\n",
    "plt.plot(hist.history['acc'], color='b', label='Training Accuracy')\n",
    "plt.plot(hist.history['val_acc'], color='r', label='Validation Accuracy')\n",
    "plt.legend(loc='lower right')\n",
    "plt.show()\n"
   ]
  },
  {
   "cell_type": "code",
   "execution_count": null,
   "metadata": {},
   "outputs": [],
   "source": []
  }
 ],
 "metadata": {
  "kernelspec": {
   "display_name": "Python 3",
   "language": "python",
   "name": "python3"
  },
  "language_info": {
   "codemirror_mode": {
    "name": "ipython",
    "version": 3
   },
   "file_extension": ".py",
   "mimetype": "text/x-python",
   "name": "python",
   "nbconvert_exporter": "python",
   "pygments_lexer": "ipython3",
   "version": "3.5.6"
  }
 },
 "nbformat": 4,
 "nbformat_minor": 2
}
